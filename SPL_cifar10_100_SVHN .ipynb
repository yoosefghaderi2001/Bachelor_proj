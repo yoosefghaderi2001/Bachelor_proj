{
  "nbformat": 4,
  "nbformat_minor": 0,
  "metadata": {
    "colab": {
      "provenance": []
    },
    "kernelspec": {
      "name": "python3",
      "display_name": "Python 3"
    },
    "language_info": {
      "name": "python"
    }
  },
  "cells": [
    {
      "cell_type": "code",
      "execution_count": 36,
      "metadata": {
        "id": "JcL9KnWvbDWq"
      },
      "outputs": [],
      "source": [
        "\n",
        "import torch\n",
        "import torch.nn as nn\n",
        "import torch.optim as optim\n",
        "import torchvision\n",
        "import torchvision.transforms as transforms\n",
        "import numpy as np\n",
        "from sklearn.metrics import precision_score\n",
        "import matplotlib.pyplot as plt\n",
        "from torchvision.datasets import SVHN, CIFAR10, CIFAR100"
      ]
    },
    {
      "cell_type": "code",
      "source": [
        "def load_dataset(dataset_name):\n",
        "    if dataset_name == 'CIFAR10':\n",
        "        trainset = CIFAR10(root='./data', train=True, download=True, transform=transform)\n",
        "        testset = CIFAR10(root='./data', train=False, download=True, transform=transform)\n",
        "        classes = ('plane', 'car', 'bird', 'cat', 'deer', 'dog', 'frog', 'horse', 'ship', 'truck')\n",
        "    elif dataset_name == 'CIFAR100':\n",
        "        trainset = CIFAR100(root='./data', train=True, download=True, transform=transform)\n",
        "        testset = CIFAR100(root='./data', train=False, download=True, transform=transform)\n",
        "        classes = trainset.classes  # CIFAR-100 includes 100 classes\n",
        "    elif dataset_name == 'SVHN':\n",
        "        trainset = SVHN(root='./data', split='train', download=True, transform=transform)\n",
        "        testset = SVHN(root='./data', split='test', download=True, transform=transform)\n",
        "        classes = ('0', '1', '2', '3', '4', '5', '6', '7', '8', '9')  # SVHN has 10 classes\n",
        "\n",
        "    trainloader = torch.utils.data.DataLoader(trainset, batch_size=100, shuffle=True, num_workers=2)\n",
        "    testloader = torch.utils.data.DataLoader(testset, batch_size=100, shuffle=False, num_workers=2)\n",
        "\n",
        "    return trainloader, testloader, classes\n"
      ],
      "metadata": {
        "id": "aPgcITy4cK2z"
      },
      "execution_count": 37,
      "outputs": []
    },
    {
      "cell_type": "code",
      "source": [
        "def load_dataset(dataset_name):\n",
        "    if dataset_name == 'CIFAR10':\n",
        "        trainset = CIFAR10(root='./data', train=True, download=True, transform=transform)\n",
        "        testset = CIFAR10(root='./data', train=False, download=True, transform=transform)\n",
        "        classes = ('plane', 'car', 'bird', 'cat', 'deer', 'dog', 'frog', 'horse', 'ship', 'truck')\n",
        "    elif dataset_name == 'CIFAR100':\n",
        "        trainset = CIFAR100(root='./data', train=True, download=True, transform=transform)\n",
        "        testset = CIFAR100(root='./data', train=False, download=True, transform=transform)\n",
        "        classes = trainset.classes\n",
        "    elif dataset_name == 'SVHN':\n",
        "        trainset = SVHN(root='./data', split='train', download=True, transform=transform)\n",
        "        testset = SVHN(root='./data', split='test', download=True, transform=transform)\n",
        "        classes = ('0', '1', '2', '3', '4', '5', '6', '7', '8', '9')  # SVHN has 10 classes\n",
        "\n",
        "    trainloader = torch.utils.data.DataLoader(trainset, batch_size=100, shuffle=True, num_workers=2)\n",
        "    testloader = torch.utils.data.DataLoader(testset, batch_size=100, shuffle=False, num_workers=2)\n",
        "\n",
        "    return trainloader, testloader, classes"
      ],
      "metadata": {
        "id": "EM_VXPTdcMLL"
      },
      "execution_count": 34,
      "outputs": []
    },
    {
      "cell_type": "code",
      "source": [
        "transform = transforms.Compose([\n",
        "    transforms.ToTensor(),\n",
        "    transforms.Normalize((0.5, 0.5, 0.5), (0.5, 0.5, 0.5))\n",
        "])\n",
        "\n",
        "dataset_name = input(\"Please select dataset (CIFAR10, CIFAR100, SVHN): \").upper()\n",
        "trainloader, testloader, classes = load_dataset(dataset_name)"
      ],
      "metadata": {
        "colab": {
          "base_uri": "https://localhost:8080/"
        },
        "id": "yMM1phlDo1r6",
        "outputId": "80c8aaed-198f-45e7-d323-9ae7bb83ed37"
      },
      "execution_count": 39,
      "outputs": [
        {
          "output_type": "stream",
          "name": "stdout",
          "text": [
            "Please select dataset (CIFAR10, CIFAR100, SVHN): svhn\n",
            "Downloading http://ufldl.stanford.edu/housenumbers/train_32x32.mat to ./data/train_32x32.mat\n"
          ]
        },
        {
          "output_type": "stream",
          "name": "stderr",
          "text": [
            "100%|██████████| 182040794/182040794 [00:28<00:00, 6345014.53it/s] \n"
          ]
        },
        {
          "output_type": "stream",
          "name": "stdout",
          "text": [
            "Downloading http://ufldl.stanford.edu/housenumbers/test_32x32.mat to ./data/test_32x32.mat\n"
          ]
        },
        {
          "output_type": "stream",
          "name": "stderr",
          "text": [
            "100%|██████████| 64275384/64275384 [00:14<00:00, 4462853.48it/s]\n"
          ]
        }
      ]
    },
    {
      "cell_type": "code",
      "source": [
        "class SimpleCNN(nn.Module):\n",
        "    def __init__(self, num_classes):\n",
        "        super(SimpleCNN, self).__init__()\n",
        "        self.conv1 = nn.Conv2d(3, 32, 3, padding=1)\n",
        "        self.conv2 = nn.Conv2d(32, 64, 3, padding=1)\n",
        "        self.pool = nn.MaxPool2d(2, 2)\n",
        "        self.fc1 = nn.Linear(64 * 8 * 8, 512)\n",
        "        self.fc2 = nn.Linear(512, num_classes)\n",
        "\n",
        "    def forward(self, x):\n",
        "        x = self.pool(torch.relu(self.conv1(x)))\n",
        "        x = self.pool(torch.relu(self.conv2(x)))\n",
        "        x = x.view(-1, 64 * 8 * 8)\n",
        "        x = torch.relu(self.fc1(x))\n",
        "        x = self.fc2(x)\n",
        "        return x"
      ],
      "metadata": {
        "id": "xmhtabhHcO6F"
      },
      "execution_count": 40,
      "outputs": []
    },
    {
      "cell_type": "code",
      "source": [
        "def train_self_paced(epoch):\n",
        "    global percentile_start\n",
        "    net_spl.train()\n",
        "\n",
        "    for i, data in enumerate(trainloader, 0):\n",
        "        inputs, labels = data\n",
        "        optimizer_spl.zero_grad()\n",
        "        outputs = net_spl(inputs)\n",
        "        losses = criterion(outputs, labels)\n",
        "        lambda_ = np.percentile(losses.detach().cpu().numpy(), percentile_start)\n",
        "        easy_samples = losses < lambda_\n",
        "        if easy_samples.sum() == 0:\n",
        "            continue\n",
        "\n",
        "        loss = losses[easy_samples].mean()\n",
        "        loss.backward()\n",
        "        optimizer_spl.step()\n",
        "    percentile_start += percentile_increment\n",
        "    print(f'SPL - Epoch [{epoch+1}/{num_epochs}], Loss: {loss.item():.4f}, Percentile: {percentile_start}%')\n"
      ],
      "metadata": {
        "id": "rk-fjT98cRnI"
      },
      "execution_count": 12,
      "outputs": []
    },
    {
      "cell_type": "code",
      "source": [
        "def train_no_spl(epoch):\n",
        "    net_no_spl.train()\n",
        "\n",
        "    for i, data in enumerate(trainloader, 0):\n",
        "        inputs, labels = data\n",
        "\n",
        "        optimizer_no_spl.zero_grad()\n",
        "\n",
        "        outputs = net_no_spl(inputs)\n",
        "        loss = nn.CrossEntropyLoss()(outputs, labels)\n",
        "        loss.backward()\n",
        "        optimizer_no_spl.step()\n",
        "\n",
        "    print(f'No SPL - Epoch [{epoch+1}/{num_epochs}], Loss: {loss.item():.4f}')\n",
        "\n",
        "\n"
      ],
      "metadata": {
        "id": "wELDbPFEcZpQ"
      },
      "execution_count": 13,
      "outputs": []
    },
    {
      "cell_type": "code",
      "source": [
        "def evaluate_and_precision(net, model_name):\n",
        "    net.eval()\n",
        "    all_preds = []\n",
        "    all_labels = []\n",
        "    with torch.no_grad():\n",
        "        for data in testloader:\n",
        "            images, labels = data\n",
        "            outputs = net(images)\n",
        "            _, predicted = torch.max(outputs.data, 1)\n",
        "            all_preds.extend(predicted.cpu().numpy())\n",
        "            all_labels.extend(labels.cpu().numpy())\n",
        "\n",
        "    precision_per_class = precision_score(all_labels, all_preds, average=None)\n",
        "    print(f'Precision per class for {model_name}: {precision_per_class}')\n",
        "    return precision_per_class\n",
        "\n"
      ],
      "metadata": {
        "id": "AY5IexqUcc4W"
      },
      "execution_count": 14,
      "outputs": []
    },
    {
      "cell_type": "code",
      "source": [
        "def plot_precision(precision_spl, precision_no_spl, classes):\n",
        "    bar_width = 0.35\n",
        "    index = np.arange(len(classes))\n",
        "\n",
        "    plt.bar(index, precision_spl, bar_width, label='SPL')\n",
        "    plt.bar(index + bar_width, precision_no_spl, bar_width, label='No SPL')\n",
        "\n",
        "    plt.xlabel('Classes')\n",
        "    plt.ylabel('Precision')\n",
        "    plt.title(f'Comparison of Precision per Class for SPL and No SPL ({dataset_name})')\n",
        "    plt.xticks(index + bar_width / 2, classes, rotation=90 if len(classes) > 10 else 45)\n",
        "    plt.legend()\n",
        "    plt.tight_layout()\n",
        "    plt.show()"
      ],
      "metadata": {
        "id": "YG9lBaXOckbG"
      },
      "execution_count": 43,
      "outputs": []
    },
    {
      "cell_type": "code",
      "source": [
        "num_classes = len(classes)\n",
        "\n",
        "\n",
        "net_spl = SimpleCNN(num_classes)\n",
        "net_no_spl = SimpleCNN(num_classes)\n",
        "\n",
        "\n",
        "criterion = nn.CrossEntropyLoss(reduction='none')\n",
        "optimizer_spl = optim.SGD(net_spl.parameters(), lr=0.001, momentum=0.9)\n",
        "optimizer_no_spl = optim.SGD(net_no_spl.parameters(), lr=0.001, momentum=0.9)\n",
        "\n",
        "\n",
        "percentile_start = 0\n",
        "percentile_increment = 10\n",
        "num_epochs = 10\n",
        "\n",
        "\n",
        "for epoch in range(num_epochs):\n",
        "    train_self_paced(epoch)\n",
        "    train_no_spl(epoch)\n",
        "\n",
        "\n",
        "precision_spl = evaluate_and_precision(net_spl, \"SPL\")\n",
        "precision_no_spl = evaluate_and_precision(net_no_spl, \"No SPL\")\n",
        "\n",
        "plot_precision(precision_spl, precision_no_spl, classes)"
      ],
      "metadata": {
        "colab": {
          "base_uri": "https://localhost:8080/",
          "height": 903
        },
        "id": "cCBiTm5Pcokl",
        "outputId": "91e4b7b5-928c-4eb3-bf32-1edc0a9e2584"
      },
      "execution_count": 42,
      "outputs": [
        {
          "output_type": "stream",
          "name": "stdout",
          "text": [
            "SPL - Epoch [1/10], Loss: 0.3325, Percentile: 20%\n",
            "No SPL - Epoch [1/10], Loss: 2.2026\n",
            "SPL - Epoch [2/10], Loss: 0.8285, Percentile: 30%\n",
            "No SPL - Epoch [2/10], Loss: 2.1853\n",
            "SPL - Epoch [3/10], Loss: 0.6396, Percentile: 40%\n",
            "No SPL - Epoch [3/10], Loss: 2.2071\n",
            "SPL - Epoch [4/10], Loss: 0.1037, Percentile: 50%\n",
            "No SPL - Epoch [4/10], Loss: 1.4686\n",
            "SPL - Epoch [5/10], Loss: 0.1939, Percentile: 60%\n",
            "No SPL - Epoch [5/10], Loss: 0.9666\n",
            "SPL - Epoch [6/10], Loss: 0.1660, Percentile: 70%\n",
            "No SPL - Epoch [6/10], Loss: 0.7545\n",
            "SPL - Epoch [7/10], Loss: 0.3731, Percentile: 80%\n",
            "No SPL - Epoch [7/10], Loss: 0.4883\n",
            "SPL - Epoch [8/10], Loss: 0.2959, Percentile: 90%\n",
            "No SPL - Epoch [8/10], Loss: 0.3662\n",
            "SPL - Epoch [9/10], Loss: 0.2505, Percentile: 100%\n",
            "No SPL - Epoch [9/10], Loss: 0.5513\n",
            "SPL - Epoch [10/10], Loss: 0.5114, Percentile: 110%\n",
            "No SPL - Epoch [10/10], Loss: 0.6820\n",
            "Precision per class for SPL: [0.75695217 0.89930762 0.87539242 0.7687665  0.87375    0.90140845\n",
            " 0.74296991 0.80781912 0.73625609 0.50247619]\n",
            "Precision per class for No SPL: [0.73945409 0.91149403 0.91914569 0.77268094 0.90012696 0.77099812\n",
            " 0.8573854  0.89438085 0.85955882 0.67310625]\n"
          ]
        },
        {
          "output_type": "display_data",
          "data": {
            "text/plain": [
              "<Figure size 640x480 with 1 Axes>"
            ],
            "image/png": "[encoded data removed]"
          },
          "metadata": {}
        }
      ]
    }
  ]
}